{
  "nbformat": 4,
  "nbformat_minor": 0,
  "metadata": {
    "colab": {
      "name": "KecStudent+ Attendance ERP .ipynb",
      "provenance": [],
      "collapsed_sections": [],
      "mount_file_id": "1PXEruWUN67kIcqeS60BVhem3_j2mmOhq",
      "authorship_tag": "ABX9TyOYiL401uf5WlQT/15NsB6u",
      "include_colab_link": true
    },
    "kernelspec": {
      "name": "python3",
      "display_name": "Python 3"
    }
  },
  "cells": [
    {
      "cell_type": "markdown",
      "metadata": {
        "id": "view-in-github",
        "colab_type": "text"
      },
      "source": [
        "<a href=\"https://colab.research.google.com/github/AjayR07/Online_Attendance_Consolidator/blob/main/KecStudent%2B_Attendance_ERP_.ipynb\" target=\"_parent\"><img src=\"https://colab.research.google.com/assets/colab-badge.svg\" alt=\"Open In Colab\"/></a>"
      ]
    },
    {
      "cell_type": "markdown",
      "metadata": {
        "id": "3u3FRMmvDHOO"
      },
      "source": [
        "\r\n",
        "\r\n",
        "---\r\n",
        "\r\n",
        "---\r\n",
        "\r\n",
        "\r\n",
        "\r\n",
        "\r\n",
        "># ![KEC_2_49.png](data:image/png;base64,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)\r\n",
        ">#  KecStudent+ Attendance ERP \r\n",
        "\r\n",
        "\r\n",
        "---\r\n",
        "---\r\n",
        "\r\n",
        "# Instructions to use :\r\n",
        "\r\n",
        "\r\n",
        "1.   Select Section-1 and  Click on run cells\r\n",
        "\r\n",
        "2.   FIll the Form and Run the next Section\r\n",
        "\r\n",
        "2.   Enter the Nominal Roll Google Sheet Share URL [Click to download Sample Format](https://docs.google.com/spreadsheets/d/1fnnBZFB6bKSlL4bUM52yRPh4vgoMkzejWTUQjllXldw/edit?usp=sharing)\r\n",
        "\r\n",
        "3.   Upload the Attendance Report\r\n",
        "\r\n",
        "4.   Attendance will be updated in the Nominal Roll\r\n",
        "\r\n",
        "\r\n",
        "---\r\n",
        "---\r\n",
        "\r\n",
        "\r\n",
        "\r\n",
        "\r\n",
        "\r\n",
        "\r\n",
        "\r\n",
        "\r\n",
        "\r\n",
        "\r\n"
      ]
    },
    {
      "cell_type": "markdown",
      "metadata": {
        "id": "175XhmYNnS1P"
      },
      "source": [
        "\r\n",
        "# Section ~ 1        \r\n",
        "*( Ctrl+Shift+Enter )*  or Click Run Cells Button"
      ]
    },
    {
      "cell_type": "code",
      "metadata": {
        "cellView": "form",
        "id": "wnpiHvY4wW5I"
      },
      "source": [
        "#@title\n",
        "# Importing Necessary Python Libraries\n",
        "\n",
        "from google.colab import files\n",
        "import io\n",
        "\n",
        "import pandas as pd\n",
        "import numpy as np\n",
        "import math\n",
        "\n",
        "# Google Sheet Authentication\n",
        "\n",
        "from google.colab import auth\n",
        "auth.authenticate_user()\n",
        "\n",
        "import gspread\n",
        "from oauth2client.client import GoogleCredentials\n",
        "\n",
        "gc = gspread.authorize(GoogleCredentials.get_application_default())"
      ],
      "execution_count": null,
      "outputs": []
    },
    {
      "cell_type": "code",
      "metadata": {
        "cellView": "form",
        "id": "2QFhm7FfHAfO"
      },
      "source": [
        "#@title\n",
        "# Functions for Extracting and Consolidating Data\n",
        "\n",
        "def ExcelPreProcessor(uploaded):\n",
        "  # Read the uploaded Excel File Name\n",
        "  filename = next(iter(uploaded))\n",
        "  final_attd=list();\n",
        "  \n",
        "  # Create an Excel File Instance\n",
        "  attd_xl = pd.ExcelFile(io.BytesIO(uploaded[filename]))\n",
        "  n = len(attd_xl.sheet_names)\n",
        "\n",
        "  # Iterate over excel sheets and convert their first column to dataframes\n",
        "  for index,xl_sheet in enumerate(attd_xl.sheet_names):\n",
        "    df=pd.read_excel(io.BytesIO(uploaded[filename]),sheet_name=xl_sheet)\n",
        "    lis=list();\n",
        "    for i in range(len(df)):\n",
        "      roll=df[df.columns[0]][i].split(\" \")[-1].upper()\n",
        "      if len(roll)==8:\n",
        "        lis.append(roll)\n",
        "    final_attd.append(lis)\n",
        "  return (final_attd,n)\n",
        "\n",
        "\n",
        "\n",
        "def getColumnName(n):\n",
        "    result = \"\"\n",
        "    while n > 0:\n",
        "        index = (n - 1) % 26\n",
        "        result += chr(index + ord('A'))\n",
        "        n = (n - 1) // 26\n",
        "    return result[::-1]\n",
        "\n",
        "\n",
        "\n",
        "def Processor(date,pd):\n",
        "  if len(nominal.columns)+1>worksheet.col_count:\n",
        "    worksheet.add_cols(1)\n",
        "  c=getColumnName(len(nominal.columns)+1)\n",
        "  r=nominal[0].count()\n",
        "  rang= c+'1:'+c+str(r)\n",
        "  # print(rang)\n",
        "  cell_list = worksheet.range(rang)\n",
        "  res={\"Present\":0,\"Absent\":0,\"Absentees\":\"\"};\n",
        "  for index,cell in enumerate(cell_list):\n",
        "    reg=nominal[0][index]\n",
        "    if index==0:\n",
        "      cell.value = date+\"  ~  \"+pd\n",
        "    else:\n",
        "      cnt=0\n",
        "      for i in Attendance:\n",
        "        if reg in i:\n",
        "          cnt+=1\n",
        "      if cnt>=math.ceil(n/2):\n",
        "        cell.value =\"Present\"\n",
        "        res[\"Present\"]+=1\n",
        "      else:\n",
        "        cell.value =\"Absent\"\n",
        "        res[\"Absentees\"]+=reg+\"   -   \"+nominal[1][index]+\"\\n\"\n",
        "        res[\"Absent\"]+=1\n",
        "  worksheet.update_cells(cell_list)\n",
        "  total=res[\"Present\"]+res[\"Absent\"]\n",
        "  per=str(int((res[\"Present\"]/total)*100))+\" %\"\n",
        "  sheet2.append_row([date,pd,res[\"Present\"],res[\"Absent\"],total,res[\"Absentees\"],per])"
      ],
      "execution_count": null,
      "outputs": []
    },
    {
      "cell_type": "markdown",
      "metadata": {
        "id": "0dkqRjEVsf57"
      },
      "source": [
        "# Attendance Logger"
      ]
    },
    {
      "cell_type": "markdown",
      "metadata": {
        "id": "WRzxpINVsWBj"
      },
      "source": [
        "\r\n",
        "###  1.  **Fill the Form First**\r\n",
        "\r\n",
        "### 2.  **Then Run this Section**      *Ctrl+Shift+Enter*"
      ]
    },
    {
      "cell_type": "code",
      "metadata": {
        "colab": {
          "resources": {
            "http://localhost:8080/nbextensions/google.colab/files.js": {
              "data": "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",
              "ok": true,
              "headers": [
                [
                  "content-type",
                  "application/javascript"
                ]
              ],
              "status": 200,
              "status_text": ""
            }
          },
          "base_uri": "https://localhost:8080/",
          "height": 194
        },
        "cellView": "form",
        "id": "2PUBysqQwnf1",
        "outputId": "172059d0-5c74-483b-9039-56ebb1868618"
      },
      "source": [
        "# Open our Nominal Roll Google Sheet and add the Attendance.\n",
        "Nominal_Roll_URL =''  #@param {type:\"string\",placeholder:\"Heloo\"}\n",
        "Date = '2021-03-31'  #@param {type: \"date\"}\n",
        "Period = \"1\" #@param [1,2,3,4,5,6] {allow-input: true}\n",
        "\n",
        "wb = gc.open_by_url(Nominal_Roll_URL)\n",
        "worksheet = wb.get_worksheet(0)\n",
        "sheet2=wb.get_worksheet(1)\n",
        "\n",
        "print(\"Upload the Attendance Sheet\")\n",
        "uploaded = files.upload()\n",
        "tup=ExcelPreProcessor(uploaded)\n",
        "Attendance=tup[0]\n",
        "n=tup[1]\n",
        "nominal = pd.DataFrame(worksheet.get_all_values())\n",
        "\n",
        "Processor(Date,Period)\n",
        "print(\"\\nAttendance Consolidated\\n Check it out in the below link\\n\"+Nominal_Roll_URL)"
      ],
      "execution_count": null,
      "outputs": [
        {
          "output_type": "stream",
          "text": [
            "Upload the Attendance Sheet\n"
          ],
          "name": "stdout"
        },
        {
          "output_type": "display_data",
          "data": {
            "text/html": [
              "\n",
              "     <input type=\"file\" id=\"files-ddb28621-fd1c-4175-b982-102b2f537a80\" name=\"files[]\" multiple disabled\n",
              "        style=\"border:none\" />\n",
              "     <output id=\"result-ddb28621-fd1c-4175-b982-102b2f537a80\">\n",
              "      Upload widget is only available when the cell has been executed in the\n",
              "      current browser session. Please rerun this cell to enable.\n",
              "      </output>\n",
              "      <script src=\"/nbextensions/google.colab/files.js\"></script> "
            ],
            "text/plain": [
              "<IPython.core.display.HTML object>"
            ]
          },
          "metadata": {
            "tags": []
          }
        },
        {
          "output_type": "stream",
          "text": [
            "Saving CN Lab 1st Period.xlsx to CN Lab 1st Period (2).xlsx\n",
            "\n",
            "Attendance Consolidated\n",
            " Check it out in the below link\n",
            "https://docs.google.com/spreadsheets/d/1qjNaiR_aNYM1Gf2LgFnhNuR-PkHaIGuwlzQ9wKIfMIc/edit?usp=sharing\n"
          ],
          "name": "stdout"
        }
      ]
    }
  ]
}